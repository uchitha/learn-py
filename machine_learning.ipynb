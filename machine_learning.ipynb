{
  "nbformat": 4,
  "nbformat_minor": 0,
  "metadata": {
    "colab": {
      "name": "machine-learning.ipynb",
      "provenance": [],
      "authorship_tag": "ABX9TyPGOPtJO08gWioagIOGYHBB",
      "include_colab_link": true
    },
    "kernelspec": {
      "name": "python3",
      "display_name": "Python 3"
    },
    "language_info": {
      "name": "python"
    }
  },
  "cells": [
    {
      "cell_type": "markdown",
      "metadata": {
        "id": "view-in-github",
        "colab_type": "text"
      },
      "source": [
        "<a href=\"https://colab.research.google.com/github/uchitha/learn-py/blob/main/machine_learning.ipynb\" target=\"_parent\"><img src=\"https://colab.research.google.com/assets/colab-badge.svg\" alt=\"Open In Colab\"/></a>"
      ]
    },
    {
      "cell_type": "code",
      "execution_count": 6,
      "metadata": {
        "colab": {
          "base_uri": "https://localhost:8080/"
        },
        "id": "ot4UBuuxb22U",
        "outputId": "155e3546-5b20-43c1-b0ab-fe112649dd54"
      },
      "outputs": [
        {
          "output_type": "stream",
          "name": "stdout",
          "text": [
            "result for 'You look great tonight': 'Kind' with 96% confidence\n",
            "result for 'You look stupid tonight': 'Mean' with 72% confidence\n",
            "result for 'You look nice tonight': 'Kind' with 88% confidence\n",
            "result for 'You look fabulous tonight': 'Kind' with 89% confidence\n",
            "result for 'You look bad tonight': 'Kind' with 77% confidence\n",
            "result for 'I dont enjoy your company': 'Mean' with 21% confidence\n",
            "result for 'Please go away': 'Mean' with 13% confidence\n",
            "result for 'You are not good': 'Mean' with 82% confidence\n"
          ]
        }
      ],
      "source": [
        "import requests\n",
        "\n",
        "# This function will pass your text to the machine learning model\n",
        "# and return the top result with the highest confidence\n",
        "def classify(text):\n",
        "    key = \"22146480-6db6-11ec-a966-839cefc1f4a3234eb24d-cb9c-4d14-9054-05956308fabd\"\n",
        "    url = \"https://machinelearningforkids.co.uk/api/scratch/\"+ key + \"/classify\"\n",
        "\n",
        "    response = requests.get(url, params={ \"data\" : text })\n",
        "\n",
        "    if response.ok:\n",
        "        responseData = response.json()\n",
        "        topMatch = responseData[0]\n",
        "        return topMatch\n",
        "    else:\n",
        "        response.raise_for_status()\n",
        "\n",
        "\n",
        "# CHANGE THIS to something you want your machine learning model to classify\n",
        "phrases = ['You look great tonight','You look stupid tonight','You look nice tonight'\n",
        ",'You look fabulous tonight','You look bad tonight','I dont enjoy your company', \n",
        "'Please go away', 'You are not good']\n",
        "\n",
        "for p in phrases:\n",
        "  demo = classify(p)\n",
        "  label = demo[\"class_name\"]\n",
        "  confidence = demo[\"confidence\"]\n",
        "  # CHANGE THIS to do something different with the result\n",
        "  print (\"result for '%s': '%s' with %d%% confidence\" % (p,label, confidence))"
      ]
    }
  ]
}